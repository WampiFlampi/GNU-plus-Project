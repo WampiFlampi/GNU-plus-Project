{
 "cells": [
  {
   "cell_type": "markdown",
   "id": "d4cb4d99-a49e-45df-b1eb-e69ab4e6d294",
   "metadata": {},
   "source": [
    "****Pittsburgh Neighborhood Watch: Livability****\n",
    "\n",
    "Pittsburgh, overall, has a great reputation as quite a lively and livable city. From the striking downtown, cozy and comfortable Shadyside and academic Oakland, there is something for everybody to enjoy in the city, and everyone will have their own opinions on what makes a neighborhood great. However, we asked, based on a heuristic and objective formula, which Pittsburgh neighborhood reigns supreme in livability? "
   ]
  },
  {
   "cell_type": "code",
   "execution_count": 10,
   "id": "6ba964d9-21f5-4929-96b2-d96c28454781",
   "metadata": {},
   "outputs": [
    {
     "name": "stdout",
     "output_type": "stream",
     "text": [
      "10\n",
      "['Brookline' 'Manchester' 'Point Breeze North' 'South Side Flats'\n",
      " 'North Shore' 'Greenfield' 'Homewood North' 'South Side Slopes'\n",
      " 'Central Business District' None 'East Liberty' 'North Oakland'\n",
      " 'Squirrel Hill South' 'East Allegheny' 'Strip District'\n",
      " 'Lincoln–Lemington–Belmar' 'Shadyside' 'Carrick' 'Point Breeze'\n",
      " 'Morningside' 'Allentown' 'Crafton Heights' 'Mount Washington'\n",
      " 'Crawford-Roberts' 'Marshall-Shadeland' 'Central Oakland' 'Elliott'\n",
      " 'Brighton Heights' 'Central Lawrenceville' 'Summer Hill' 'South Oakland'\n",
      " 'Homewood South' 'Knoxville' 'N/A' 'Terrace Village' 'West Oakland'\n",
      " 'Fineview' 'Upper Lawrenceville' 'Sheraden' 'Spring Hill–City View'\n",
      " 'Bloomfield' 'Beechview' 'Squirrel Hill North' 'Perry South' 'Garfield'\n",
      " 'Banksville' 'Bluff' 'Bon Air' 'Northview Heights' 'Overbrook' 'Larimer'\n",
      " 'Hazelwood' 'Friendship' 'Central Northside' 'Homewood West'\n",
      " 'Lower Lawrenceville' 'East Carnegie' 'Bedford Dwellings'\n",
      " 'Lincoln-Lemington-Belmar' 'New Homestead' 'Troy Hill' 'Highland Park'\n",
      " 'Lincoln Place' 'Chateau' 'Polish Hill' 'Glen Hazel' 'Hays'\n",
      " 'California-Kirkbride' 'East Hills' 'Middle Hill' 'Regent Square'\n",
      " 'Perry North' 'Stanton Heights' 'West End' 'Arlington Heights'\n",
      " 'Arlington' 'Beltzhoover' 'Spring Garden' 'Westwood' 'Upper Hill'\n",
      " 'Allegheny Center' 'Allegheny West' 'Windgap' 'Duquesne Heights'\n",
      " 'Mount Oliver' 'Esplen' 'Ridgemont' 'Southshore' 'Fairywood'\n",
      " 'Saint Clair' 'Swisshelm Park' 'Chartiers' 'Oakwood']\n"
     ]
    }
   ],
   "source": [
    "import geopandas as gpd\n",
    "import folium\n",
    "import matplotlib\n",
    "import mapclassify\n",
    "\n",
    "crime = \"../datasets/crime/allmergedtables.xlsx\"\n",
    "crimeplace = gpd.read_file(crime)\n",
    "print(10)\n",
    "print(crimeplace['Neighborhood'].unique())\n",
    "\n",
    "\n"
   ]
  },
  {
   "cell_type": "code",
   "execution_count": 7,
   "id": "9e539410-975c-4c50-be2d-6b33bb5aa268",
   "metadata": {},
   "outputs": [
    {
     "data": {
      "text/plain": [
       "<pandas.core.groupby.generic.DataFrameGroupBy object at 0x2ad9d09160d0>"
      ]
     },
     "execution_count": 7,
     "metadata": {},
     "output_type": "execute_result"
    }
   ],
   "source": [
    "crimeplace.groupby(\"Neighborhood\")"
   ]
  },
  {
   "cell_type": "code",
   "execution_count": null,
   "id": "713c692c-a18d-4dc0-95b8-ffa2d64dbe0c",
   "metadata": {},
   "outputs": [],
   "source": []
  }
 ],
 "metadata": {
  "kernelspec": {
   "display_name": "Python 3 (ipykernel)",
   "language": "python",
   "name": "python3"
  },
  "language_info": {
   "codemirror_mode": {
    "name": "ipython",
    "version": 3
   },
   "file_extension": ".py",
   "mimetype": "text/x-python",
   "name": "python",
   "nbconvert_exporter": "python",
   "pygments_lexer": "ipython3",
   "version": "3.11.5"
  }
 },
 "nbformat": 4,
 "nbformat_minor": 5
}
